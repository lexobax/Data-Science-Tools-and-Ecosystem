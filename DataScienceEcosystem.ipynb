{
 "cells": [
  {
   "cell_type": "markdown",
   "id": "864d80af-9dbc-4deb-8d13-d6aab2566b7a",
   "metadata": {
    "tags": []
   },
   "source": [
    "# Data Science Tools and Ecosystem"
   ]
  },
  {
   "cell_type": "markdown",
   "id": "3682c7fa-f7e4-48ff-8dc4-9b8e82e1a275",
   "metadata": {},
   "source": [
    "In this notebook, Data Science Tools and Ecosystem are summarized."
   ]
  },
  {
   "cell_type": "markdown",
   "id": "31eebf85-fac7-4fbf-9e4f-e45c26e15dd8",
   "metadata": {},
   "source": [
    "**Objectives**\n",
    "- popular languages that Data Scientists use\n",
    "- popular libraries that Data Scientists use\n",
    "- popular tools for Data Science\n",
    "- code to multiply and add numbers\n",
    "- code to convert minutes to hours"
   ]
  },
  {
   "cell_type": "markdown",
   "id": "18061515-31a1-49a0-b840-12de824eb0e1",
   "metadata": {},
   "source": [
    "Some of the popular languages that Data Scientists use are:\n",
    "1. python\n",
    "2. R\n",
    "3. sql\n",
    "4. java\n",
    "5. julia\n",
    "6. scala"
   ]
  },
  {
   "cell_type": "markdown",
   "id": "4e3c7a30-6ad1-4da4-9612-6aa1f3bd0b89",
   "metadata": {},
   "source": [
    "Some of the commonly used libraries used by Data Scientists include:\n",
    "1. TensorFlow\n",
    "2. Pytorch\n",
    "3. SciKit-Learn\n",
    "4. NumPy\n",
    "5. Matplotlib\n",
    "6. Pandas"
   ]
  },
  {
   "cell_type": "markdown",
   "id": "7ba1bd2b-3c62-413a-af0e-b68f0fac12b3",
   "metadata": {},
   "source": [
    "| Data Science Tools |\n",
    "| --- |\n",
    "| RStudio |\n",
    "| Apache Spark |\n",
    "| TensorFlow |"
   ]
  },
  {
   "cell_type": "markdown",
   "id": "c13f0f56-6bb5-4c89-9556-373a96753d2d",
   "metadata": {},
   "source": [
    "### Below are a few examples of evaluating arithmetic expressions in Python"
   ]
  },
  {
   "cell_type": "code",
   "execution_count": 2,
   "id": "b1571a85-8af0-42c8-9901-98f5cf158b02",
   "metadata": {},
   "outputs": [
    {
     "data": {
      "text/plain": [
       "17"
      ]
     },
     "execution_count": 2,
     "metadata": {},
     "output_type": "execute_result"
    }
   ],
   "source": [
    "#This a simple arithmetic expression to mutiply then add integers\n",
    "(3*4)+5"
   ]
  },
  {
   "cell_type": "code",
   "execution_count": 5,
   "id": "23e12cd1-d073-4995-966a-51ff27a4fbea",
   "metadata": {},
   "outputs": [
    {
     "data": {
      "text/plain": [
       "3.3333333333333335"
      ]
     },
     "execution_count": 5,
     "metadata": {},
     "output_type": "execute_result"
    }
   ],
   "source": [
    "#This will convert 200 minutes to hours by diving by 60\n",
    "200/60"
   ]
  },
  {
   "cell_type": "markdown",
   "id": "9703211f-e6f0-4cb3-8bd1-65342aecd452",
   "metadata": {},
   "source": [
    "## Author\n",
    "Alexsi Bakhtadze"
   ]
  },
  {
   "cell_type": "code",
   "execution_count": null,
   "id": "ddc7cbfb-f942-4b1f-bc9f-41f738704dd3",
   "metadata": {},
   "outputs": [],
   "source": []
  }
 ],
 "metadata": {
  "kernelspec": {
   "display_name": "Python",
   "language": "python",
   "name": "conda-env-python-py"
  },
  "language_info": {
   "codemirror_mode": {
    "name": "ipython",
    "version": 3
   },
   "file_extension": ".py",
   "mimetype": "text/x-python",
   "name": "python",
   "nbconvert_exporter": "python",
   "pygments_lexer": "ipython3",
   "version": "3.7.12"
  }
 },
 "nbformat": 4,
 "nbformat_minor": 5
}
